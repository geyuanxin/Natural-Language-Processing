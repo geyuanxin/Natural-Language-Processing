{
 "cells": [
  {
   "cell_type": "code",
   "execution_count": 5,
   "id": "4aedd25f",
   "metadata": {},
   "outputs": [],
   "source": [
    "file = open('rice-trait-ontology.txt','r',encoding='utf-8')"
   ]
  },
  {
   "cell_type": "code",
   "execution_count": 6,
   "id": "f7606c71",
   "metadata": {},
   "outputs": [],
   "source": [
    "line = file.readlines()"
   ]
  },
  {
   "cell_type": "code",
   "execution_count": 7,
   "id": "be404e48",
   "metadata": {},
   "outputs": [],
   "source": [
    "with open('newname.txt','w') as f:\n",
    "    for i in line:\n",
    "        data = i.split(': ')\n",
    "        if data[0] == 'name':\n",
    "            f.write(data[1])"
   ]
  }
 ],
 "metadata": {
  "kernelspec": {
   "display_name": "Python 3",
   "language": "python",
   "name": "python3"
  },
  "language_info": {
   "codemirror_mode": {
    "name": "ipython",
    "version": 3
   },
   "file_extension": ".py",
   "mimetype": "text/x-python",
   "name": "python",
   "nbconvert_exporter": "python",
   "pygments_lexer": "ipython3",
   "version": "3.8.8"
  }
 },
 "nbformat": 4,
 "nbformat_minor": 5
}
